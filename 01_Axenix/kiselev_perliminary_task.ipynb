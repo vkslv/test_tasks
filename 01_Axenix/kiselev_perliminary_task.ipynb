{
 "cells": [
  {
   "cell_type": "markdown",
   "id": "04ad1714",
   "metadata": {},
   "source": [
    "# Задание\n",
    "\n",
    "Выполнил: Киселев Владимир\n",
    "\n",
    "Дата: 06.07.2023\n",
    "\n",
    "v1.kiselev@yandex.ru"
   ]
  },
  {
   "cell_type": "markdown",
   "id": "582ae09e",
   "metadata": {},
   "source": [
    "Требуется:\n",
    "\n",
    "\n",
    "- [X] провести разведочный анализ данных\n",
    "- [X] выбрать критерий для точности модели\n",
    "- [X] указать степень важности (информативности) каждой из 10 входных переменных с точки зрения точности модели\n",
    "\n",
    "- [X] Дополнительно: Что еще можно предложить чтобы улучшить получившийся результат?"
   ]
  },
  {
   "cell_type": "markdown",
   "id": "ef2bff7f",
   "metadata": {},
   "source": [
    "---"
   ]
  },
  {
   "cell_type": "markdown",
   "id": "46444a27",
   "metadata": {},
   "source": [
    "# Импорты"
   ]
  },
  {
   "cell_type": "code",
   "execution_count": 1,
   "id": "fa758054",
   "metadata": {},
   "outputs": [],
   "source": [
    "import pandas as pd\n",
    "import matplotlib.pyplot as plt\n",
    "import numpy as np\n",
    "\n",
    "from sklearn.model_selection import train_test_split\n",
    "from sklearn.linear_model import LinearRegression\n",
    "from sklearn import metrics\n",
    "\n",
    "STATE = 12345"
   ]
  },
  {
   "cell_type": "markdown",
   "id": "61800b1f",
   "metadata": {},
   "source": [
    "---"
   ]
  },
  {
   "cell_type": "code",
   "execution_count": 2,
   "id": "a6717bb1",
   "metadata": {
    "scrolled": true
   },
   "outputs": [],
   "source": [
    "# читаем данные и сразу размечаем таргеты и фичи \n",
    "# присваиваем фичам значения X_n, X_n+1 и тд, тергет - Y\n",
    "\n",
    "data = pd.read_csv(r'C:\\Users\\vk\\python\\test_task\\preliminary_task.txt', sep='\\t',\n",
    "                   names=['X_1', 'X_2', 'X_3', 'X_4', 'X_5', 'X_6', 'X_7', 'X_8', 'X_9', 'X_10', 'Y'])\n",
    "\n",
    "# поделил их заранее спеицально, чтобы удобнее было проводить EDA\n",
    "\n",
    "features = data.drop(columns = ['Y'])\n",
    "target = data['Y']"
   ]
  },
  {
   "cell_type": "markdown",
   "id": "f45f1f50",
   "metadata": {},
   "source": [
    "# EDA (разведочный анализ данных)"
   ]
  },
  {
   "cell_type": "code",
   "execution_count": 3,
   "id": "f3ccf704",
   "metadata": {},
   "outputs": [
    {
     "data": {
      "text/html": [
       "<div>\n",
       "<style scoped>\n",
       "    .dataframe tbody tr th:only-of-type {\n",
       "        vertical-align: middle;\n",
       "    }\n",
       "\n",
       "    .dataframe tbody tr th {\n",
       "        vertical-align: top;\n",
       "    }\n",
       "\n",
       "    .dataframe thead th {\n",
       "        text-align: right;\n",
       "    }\n",
       "</style>\n",
       "<table border=\"1\" class=\"dataframe\">\n",
       "  <thead>\n",
       "    <tr style=\"text-align: right;\">\n",
       "      <th></th>\n",
       "      <th>X_1</th>\n",
       "      <th>X_2</th>\n",
       "      <th>X_3</th>\n",
       "      <th>X_4</th>\n",
       "      <th>X_5</th>\n",
       "      <th>X_6</th>\n",
       "      <th>X_7</th>\n",
       "      <th>X_8</th>\n",
       "      <th>X_9</th>\n",
       "      <th>X_10</th>\n",
       "      <th>Y</th>\n",
       "    </tr>\n",
       "  </thead>\n",
       "  <tbody>\n",
       "    <tr>\n",
       "      <th>0</th>\n",
       "      <td>0.155051</td>\n",
       "      <td>0.974187</td>\n",
       "      <td>0.074675</td>\n",
       "      <td>0.442146</td>\n",
       "      <td>0.369443</td>\n",
       "      <td>0.468138</td>\n",
       "      <td>0.578846</td>\n",
       "      <td>0.422744</td>\n",
       "      <td>0.931543</td>\n",
       "      <td>0.474148</td>\n",
       "      <td>15</td>\n",
       "    </tr>\n",
       "    <tr>\n",
       "      <th>1</th>\n",
       "      <td>0.968379</td>\n",
       "      <td>0.716820</td>\n",
       "      <td>0.678846</td>\n",
       "      <td>0.510049</td>\n",
       "      <td>0.545299</td>\n",
       "      <td>0.573692</td>\n",
       "      <td>0.817491</td>\n",
       "      <td>0.206636</td>\n",
       "      <td>0.880111</td>\n",
       "      <td>0.574187</td>\n",
       "      <td>17</td>\n",
       "    </tr>\n",
       "    <tr>\n",
       "      <th>2</th>\n",
       "      <td>0.468263</td>\n",
       "      <td>0.405603</td>\n",
       "      <td>0.320325</td>\n",
       "      <td>0.468084</td>\n",
       "      <td>0.100995</td>\n",
       "      <td>0.974407</td>\n",
       "      <td>0.300062</td>\n",
       "      <td>0.608356</td>\n",
       "      <td>0.050082</td>\n",
       "      <td>0.762011</td>\n",
       "      <td>12</td>\n",
       "    </tr>\n",
       "    <tr>\n",
       "      <th>3</th>\n",
       "      <td>0.776820</td>\n",
       "      <td>0.103740</td>\n",
       "      <td>0.373748</td>\n",
       "      <td>0.797782</td>\n",
       "      <td>0.906810</td>\n",
       "      <td>0.599069</td>\n",
       "      <td>0.626680</td>\n",
       "      <td>0.924705</td>\n",
       "      <td>0.632768</td>\n",
       "      <td>0.512663</td>\n",
       "      <td>16</td>\n",
       "    </tr>\n",
       "    <tr>\n",
       "      <th>4</th>\n",
       "      <td>0.407886</td>\n",
       "      <td>0.415357</td>\n",
       "      <td>0.101543</td>\n",
       "      <td>0.935160</td>\n",
       "      <td>0.444124</td>\n",
       "      <td>0.193607</td>\n",
       "      <td>0.656837</td>\n",
       "      <td>0.599929</td>\n",
       "      <td>0.868582</td>\n",
       "      <td>0.405406</td>\n",
       "      <td>20</td>\n",
       "    </tr>\n",
       "    <tr>\n",
       "      <th>5</th>\n",
       "      <td>0.538797</td>\n",
       "      <td>0.088621</td>\n",
       "      <td>0.886119</td>\n",
       "      <td>0.781848</td>\n",
       "      <td>0.401623</td>\n",
       "      <td>0.207652</td>\n",
       "      <td>0.946310</td>\n",
       "      <td>0.769453</td>\n",
       "      <td>0.827292</td>\n",
       "      <td>0.937183</td>\n",
       "      <td>15</td>\n",
       "    </tr>\n",
       "    <tr>\n",
       "      <th>6</th>\n",
       "      <td>0.206888</td>\n",
       "      <td>0.948597</td>\n",
       "      <td>0.558884</td>\n",
       "      <td>0.871703</td>\n",
       "      <td>0.465946</td>\n",
       "      <td>0.276475</td>\n",
       "      <td>0.989965</td>\n",
       "      <td>0.704521</td>\n",
       "      <td>0.274629</td>\n",
       "      <td>0.632537</td>\n",
       "      <td>17</td>\n",
       "    </tr>\n",
       "    <tr>\n",
       "      <th>7</th>\n",
       "      <td>0.187104</td>\n",
       "      <td>0.958926</td>\n",
       "      <td>0.333785</td>\n",
       "      <td>0.553103</td>\n",
       "      <td>0.321272</td>\n",
       "      <td>0.093246</td>\n",
       "      <td>0.992068</td>\n",
       "      <td>0.683878</td>\n",
       "      <td>0.826543</td>\n",
       "      <td>0.339985</td>\n",
       "      <td>14</td>\n",
       "    </tr>\n",
       "    <tr>\n",
       "      <th>8</th>\n",
       "      <td>0.779970</td>\n",
       "      <td>0.733282</td>\n",
       "      <td>0.640320</td>\n",
       "      <td>0.988489</td>\n",
       "      <td>0.503198</td>\n",
       "      <td>0.283350</td>\n",
       "      <td>0.412005</td>\n",
       "      <td>0.655302</td>\n",
       "      <td>0.025155</td>\n",
       "      <td>0.120866</td>\n",
       "      <td>23</td>\n",
       "    </tr>\n",
       "    <tr>\n",
       "      <th>9</th>\n",
       "      <td>0.193944</td>\n",
       "      <td>0.810933</td>\n",
       "      <td>0.444994</td>\n",
       "      <td>0.330572</td>\n",
       "      <td>0.518216</td>\n",
       "      <td>0.845187</td>\n",
       "      <td>0.525841</td>\n",
       "      <td>0.713356</td>\n",
       "      <td>0.666183</td>\n",
       "      <td>0.856873</td>\n",
       "      <td>11</td>\n",
       "    </tr>\n",
       "  </tbody>\n",
       "</table>\n",
       "</div>"
      ],
      "text/plain": [
       "        X_1       X_2       X_3       X_4       X_5       X_6       X_7  \\\n",
       "0  0.155051  0.974187  0.074675  0.442146  0.369443  0.468138  0.578846   \n",
       "1  0.968379  0.716820  0.678846  0.510049  0.545299  0.573692  0.817491   \n",
       "2  0.468263  0.405603  0.320325  0.468084  0.100995  0.974407  0.300062   \n",
       "3  0.776820  0.103740  0.373748  0.797782  0.906810  0.599069  0.626680   \n",
       "4  0.407886  0.415357  0.101543  0.935160  0.444124  0.193607  0.656837   \n",
       "5  0.538797  0.088621  0.886119  0.781848  0.401623  0.207652  0.946310   \n",
       "6  0.206888  0.948597  0.558884  0.871703  0.465946  0.276475  0.989965   \n",
       "7  0.187104  0.958926  0.333785  0.553103  0.321272  0.093246  0.992068   \n",
       "8  0.779970  0.733282  0.640320  0.988489  0.503198  0.283350  0.412005   \n",
       "9  0.193944  0.810933  0.444994  0.330572  0.518216  0.845187  0.525841   \n",
       "\n",
       "        X_8       X_9      X_10   Y  \n",
       "0  0.422744  0.931543  0.474148  15  \n",
       "1  0.206636  0.880111  0.574187  17  \n",
       "2  0.608356  0.050082  0.762011  12  \n",
       "3  0.924705  0.632768  0.512663  16  \n",
       "4  0.599929  0.868582  0.405406  20  \n",
       "5  0.769453  0.827292  0.937183  15  \n",
       "6  0.704521  0.274629  0.632537  17  \n",
       "7  0.683878  0.826543  0.339985  14  \n",
       "8  0.655302  0.025155  0.120866  23  \n",
       "9  0.713356  0.666183  0.856873  11  "
      ]
     },
     "execution_count": 3,
     "metadata": {},
     "output_type": "execute_result"
    }
   ],
   "source": [
    "# выводим первые 10 строк датафрейма, чтобы ознакомиться с данным\n",
    "\n",
    "data.head(10)"
   ]
  },
  {
   "cell_type": "code",
   "execution_count": 4,
   "id": "9c4f8a57",
   "metadata": {},
   "outputs": [
    {
     "name": "stdout",
     "output_type": "stream",
     "text": [
      "<class 'pandas.core.frame.DataFrame'>\n",
      "RangeIndex: 1000 entries, 0 to 999\n",
      "Data columns (total 11 columns):\n",
      " #   Column  Non-Null Count  Dtype  \n",
      "---  ------  --------------  -----  \n",
      " 0   X_1     1000 non-null   float64\n",
      " 1   X_2     1000 non-null   float64\n",
      " 2   X_3     1000 non-null   float64\n",
      " 3   X_4     1000 non-null   float64\n",
      " 4   X_5     1000 non-null   float64\n",
      " 5   X_6     1000 non-null   float64\n",
      " 6   X_7     1000 non-null   float64\n",
      " 7   X_8     1000 non-null   float64\n",
      " 8   X_9     1000 non-null   float64\n",
      " 9   X_10    1000 non-null   float64\n",
      " 10  Y       1000 non-null   int64  \n",
      "dtypes: float64(10), int64(1)\n",
      "memory usage: 86.1 KB\n"
     ]
    }
   ],
   "source": [
    "# выводим информацию по датафрейму\n",
    "\n",
    "data.info()"
   ]
  },
  {
   "cell_type": "code",
   "execution_count": 5,
   "id": "297168f6",
   "metadata": {},
   "outputs": [
    {
     "data": {
      "text/plain": [
       "0"
      ]
     },
     "execution_count": 5,
     "metadata": {},
     "output_type": "execute_result"
    }
   ],
   "source": [
    "# проверяем на наличие дубликатов\n",
    "\n",
    "data.duplicated().sum()"
   ]
  },
  {
   "cell_type": "code",
   "execution_count": 6,
   "id": "814f4d71",
   "metadata": {},
   "outputs": [
    {
     "data": {
      "text/html": [
       "<div>\n",
       "<style scoped>\n",
       "    .dataframe tbody tr th:only-of-type {\n",
       "        vertical-align: middle;\n",
       "    }\n",
       "\n",
       "    .dataframe tbody tr th {\n",
       "        vertical-align: top;\n",
       "    }\n",
       "\n",
       "    .dataframe thead th {\n",
       "        text-align: right;\n",
       "    }\n",
       "</style>\n",
       "<table border=\"1\" class=\"dataframe\">\n",
       "  <thead>\n",
       "    <tr style=\"text-align: right;\">\n",
       "      <th></th>\n",
       "      <th>X_1</th>\n",
       "      <th>X_2</th>\n",
       "      <th>X_3</th>\n",
       "      <th>X_4</th>\n",
       "      <th>X_5</th>\n",
       "      <th>X_6</th>\n",
       "      <th>X_7</th>\n",
       "      <th>X_8</th>\n",
       "      <th>X_9</th>\n",
       "      <th>X_10</th>\n",
       "      <th>Y</th>\n",
       "    </tr>\n",
       "  </thead>\n",
       "  <tbody>\n",
       "    <tr>\n",
       "      <th>count</th>\n",
       "      <td>1000.000000</td>\n",
       "      <td>1000.000000</td>\n",
       "      <td>1000.000000</td>\n",
       "      <td>1000.000000</td>\n",
       "      <td>1000.000000</td>\n",
       "      <td>1000.000000</td>\n",
       "      <td>1000.000000</td>\n",
       "      <td>1000.000000</td>\n",
       "      <td>1000.000000</td>\n",
       "      <td>1000.000000</td>\n",
       "      <td>1000.000000</td>\n",
       "    </tr>\n",
       "    <tr>\n",
       "      <th>mean</th>\n",
       "      <td>0.490491</td>\n",
       "      <td>0.499785</td>\n",
       "      <td>0.496466</td>\n",
       "      <td>0.503167</td>\n",
       "      <td>0.508902</td>\n",
       "      <td>0.513466</td>\n",
       "      <td>0.487111</td>\n",
       "      <td>0.498870</td>\n",
       "      <td>0.505611</td>\n",
       "      <td>0.499113</td>\n",
       "      <td>15.014000</td>\n",
       "    </tr>\n",
       "    <tr>\n",
       "      <th>std</th>\n",
       "      <td>0.293920</td>\n",
       "      <td>0.278833</td>\n",
       "      <td>0.298024</td>\n",
       "      <td>0.284102</td>\n",
       "      <td>0.283300</td>\n",
       "      <td>0.291059</td>\n",
       "      <td>0.288407</td>\n",
       "      <td>0.285954</td>\n",
       "      <td>0.283131</td>\n",
       "      <td>0.284073</td>\n",
       "      <td>4.771223</td>\n",
       "    </tr>\n",
       "    <tr>\n",
       "      <th>min</th>\n",
       "      <td>0.000188</td>\n",
       "      <td>0.000085</td>\n",
       "      <td>0.003110</td>\n",
       "      <td>0.001223</td>\n",
       "      <td>0.005314</td>\n",
       "      <td>0.000517</td>\n",
       "      <td>0.000493</td>\n",
       "      <td>0.000408</td>\n",
       "      <td>0.007883</td>\n",
       "      <td>0.000170</td>\n",
       "      <td>3.000000</td>\n",
       "    </tr>\n",
       "    <tr>\n",
       "      <th>25%</th>\n",
       "      <td>0.218825</td>\n",
       "      <td>0.262168</td>\n",
       "      <td>0.231492</td>\n",
       "      <td>0.268925</td>\n",
       "      <td>0.274572</td>\n",
       "      <td>0.255524</td>\n",
       "      <td>0.237778</td>\n",
       "      <td>0.256103</td>\n",
       "      <td>0.262332</td>\n",
       "      <td>0.249675</td>\n",
       "      <td>12.000000</td>\n",
       "    </tr>\n",
       "    <tr>\n",
       "      <th>50%</th>\n",
       "      <td>0.504439</td>\n",
       "      <td>0.500901</td>\n",
       "      <td>0.484347</td>\n",
       "      <td>0.503412</td>\n",
       "      <td>0.508629</td>\n",
       "      <td>0.527155</td>\n",
       "      <td>0.475274</td>\n",
       "      <td>0.501300</td>\n",
       "      <td>0.518847</td>\n",
       "      <td>0.509422</td>\n",
       "      <td>15.000000</td>\n",
       "    </tr>\n",
       "    <tr>\n",
       "      <th>75%</th>\n",
       "      <td>0.738004</td>\n",
       "      <td>0.734516</td>\n",
       "      <td>0.764729</td>\n",
       "      <td>0.747587</td>\n",
       "      <td>0.742461</td>\n",
       "      <td>0.766870</td>\n",
       "      <td>0.738885</td>\n",
       "      <td>0.736849</td>\n",
       "      <td>0.748473</td>\n",
       "      <td>0.741870</td>\n",
       "      <td>18.000000</td>\n",
       "    </tr>\n",
       "    <tr>\n",
       "      <th>max</th>\n",
       "      <td>0.999566</td>\n",
       "      <td>0.999959</td>\n",
       "      <td>0.998918</td>\n",
       "      <td>0.998785</td>\n",
       "      <td>0.998478</td>\n",
       "      <td>0.999059</td>\n",
       "      <td>0.999179</td>\n",
       "      <td>0.998646</td>\n",
       "      <td>0.998884</td>\n",
       "      <td>0.998819</td>\n",
       "      <td>29.000000</td>\n",
       "    </tr>\n",
       "  </tbody>\n",
       "</table>\n",
       "</div>"
      ],
      "text/plain": [
       "               X_1          X_2          X_3          X_4          X_5  \\\n",
       "count  1000.000000  1000.000000  1000.000000  1000.000000  1000.000000   \n",
       "mean      0.490491     0.499785     0.496466     0.503167     0.508902   \n",
       "std       0.293920     0.278833     0.298024     0.284102     0.283300   \n",
       "min       0.000188     0.000085     0.003110     0.001223     0.005314   \n",
       "25%       0.218825     0.262168     0.231492     0.268925     0.274572   \n",
       "50%       0.504439     0.500901     0.484347     0.503412     0.508629   \n",
       "75%       0.738004     0.734516     0.764729     0.747587     0.742461   \n",
       "max       0.999566     0.999959     0.998918     0.998785     0.998478   \n",
       "\n",
       "               X_6          X_7          X_8          X_9         X_10  \\\n",
       "count  1000.000000  1000.000000  1000.000000  1000.000000  1000.000000   \n",
       "mean      0.513466     0.487111     0.498870     0.505611     0.499113   \n",
       "std       0.291059     0.288407     0.285954     0.283131     0.284073   \n",
       "min       0.000517     0.000493     0.000408     0.007883     0.000170   \n",
       "25%       0.255524     0.237778     0.256103     0.262332     0.249675   \n",
       "50%       0.527155     0.475274     0.501300     0.518847     0.509422   \n",
       "75%       0.766870     0.738885     0.736849     0.748473     0.741870   \n",
       "max       0.999059     0.999179     0.998646     0.998884     0.998819   \n",
       "\n",
       "                 Y  \n",
       "count  1000.000000  \n",
       "mean     15.014000  \n",
       "std       4.771223  \n",
       "min       3.000000  \n",
       "25%      12.000000  \n",
       "50%      15.000000  \n",
       "75%      18.000000  \n",
       "max      29.000000  "
      ]
     },
     "execution_count": 6,
     "metadata": {},
     "output_type": "execute_result"
    }
   ],
   "source": [
    "# выводим описательные статистики\n",
    "\n",
    "data.describe()"
   ]
  },
  {
   "cell_type": "code",
   "execution_count": 7,
   "id": "3d17ba3d",
   "metadata": {},
   "outputs": [
    {
     "data": {
      "image/png": "[encoded data removed]",
      "text/plain": [
       "<Figure size 2000x2000 with 12 Axes>"
      ]
     },
     "metadata": {},
     "output_type": "display_data"
    }
   ],
   "source": [
    "# строим гистограммы фичей, чтобы посмотреть на их распределение,\n",
    "# заранее можно предположить, что фичи стандартизированы, так как их значения\n",
    "# варьируются от 0 до 1\n",
    "\n",
    "features.hist(grid=False, figsize=(20,20));"
   ]
  },
  {
   "cell_type": "code",
   "execution_count": 8,
   "id": "ede5419e",
   "metadata": {},
   "outputs": [
    {
     "data": {
      "image/png": "[encoded data removed]",
      "text/plain": [
       "<Figure size 640x480 with 1 Axes>"
      ]
     },
     "metadata": {},
     "output_type": "display_data"
    }
   ],
   "source": [
    "# выводим гистограмму таргета\n",
    "\n",
    "target.hist();"
   ]
  },
  {
   "cell_type": "code",
   "execution_count": 9,
   "id": "fbe7cc7e",
   "metadata": {},
   "outputs": [
    {
     "data": {
      "image/png": "[encoded data removed]",
      "text/plain": [
       "<Figure size 640x480 with 1 Axes>"
      ]
     },
     "metadata": {},
     "output_type": "display_data"
    }
   ],
   "source": [
    "# выводим диаграммы размаха для фичей\n",
    "\n",
    "plt.boxplot(features, labels=['X_1', 'X_2', 'X_3', 'X_4', 'X_5', 'X_6', 'X_7', 'X_8', 'X_9', 'X_10']);"
   ]
  },
  {
   "cell_type": "code",
   "execution_count": 10,
   "id": "522feb8a",
   "metadata": {},
   "outputs": [
    {
     "data": {
      "image/png": "[encoded data removed]",
      "text/plain": [
       "<Figure size 640x480 with 1 Axes>"
      ]
     },
     "metadata": {},
     "output_type": "display_data"
    }
   ],
   "source": [
    "# диаграмма размаха таргета\n",
    "\n",
    "plt.boxplot(target);"
   ]
  },
  {
   "cell_type": "code",
   "execution_count": 11,
   "id": "d32a816a",
   "metadata": {},
   "outputs": [
    {
     "data": {
      "text/html": [
       "<div>\n",
       "<style scoped>\n",
       "    .dataframe tbody tr th:only-of-type {\n",
       "        vertical-align: middle;\n",
       "    }\n",
       "\n",
       "    .dataframe tbody tr th {\n",
       "        vertical-align: top;\n",
       "    }\n",
       "\n",
       "    .dataframe thead th {\n",
       "        text-align: right;\n",
       "    }\n",
       "</style>\n",
       "<table border=\"1\" class=\"dataframe\">\n",
       "  <thead>\n",
       "    <tr style=\"text-align: right;\">\n",
       "      <th></th>\n",
       "      <th>X_1</th>\n",
       "      <th>X_2</th>\n",
       "      <th>X_3</th>\n",
       "      <th>X_4</th>\n",
       "      <th>X_5</th>\n",
       "      <th>X_6</th>\n",
       "      <th>X_7</th>\n",
       "      <th>X_8</th>\n",
       "      <th>X_9</th>\n",
       "      <th>X_10</th>\n",
       "      <th>Y</th>\n",
       "    </tr>\n",
       "  </thead>\n",
       "  <tbody>\n",
       "    <tr>\n",
       "      <th>X_1</th>\n",
       "      <td>1.00</td>\n",
       "      <td>-0.03</td>\n",
       "      <td>0.00</td>\n",
       "      <td>-0.02</td>\n",
       "      <td>0.01</td>\n",
       "      <td>-0.01</td>\n",
       "      <td>-0.03</td>\n",
       "      <td>0.01</td>\n",
       "      <td>-0.01</td>\n",
       "      <td>-0.01</td>\n",
       "      <td>0.43</td>\n",
       "    </tr>\n",
       "    <tr>\n",
       "      <th>X_2</th>\n",
       "      <td>-0.03</td>\n",
       "      <td>1.00</td>\n",
       "      <td>0.00</td>\n",
       "      <td>0.02</td>\n",
       "      <td>-0.06</td>\n",
       "      <td>-0.02</td>\n",
       "      <td>-0.02</td>\n",
       "      <td>0.01</td>\n",
       "      <td>0.03</td>\n",
       "      <td>-0.05</td>\n",
       "      <td>0.37</td>\n",
       "    </tr>\n",
       "    <tr>\n",
       "      <th>X_3</th>\n",
       "      <td>0.00</td>\n",
       "      <td>0.00</td>\n",
       "      <td>1.00</td>\n",
       "      <td>0.03</td>\n",
       "      <td>-0.04</td>\n",
       "      <td>0.02</td>\n",
       "      <td>0.02</td>\n",
       "      <td>0.06</td>\n",
       "      <td>0.01</td>\n",
       "      <td>0.01</td>\n",
       "      <td>-0.01</td>\n",
       "    </tr>\n",
       "    <tr>\n",
       "      <th>X_4</th>\n",
       "      <td>-0.02</td>\n",
       "      <td>0.02</td>\n",
       "      <td>0.03</td>\n",
       "      <td>1.00</td>\n",
       "      <td>-0.06</td>\n",
       "      <td>-0.02</td>\n",
       "      <td>0.00</td>\n",
       "      <td>-0.01</td>\n",
       "      <td>0.00</td>\n",
       "      <td>-0.04</td>\n",
       "      <td>0.56</td>\n",
       "    </tr>\n",
       "    <tr>\n",
       "      <th>X_5</th>\n",
       "      <td>0.01</td>\n",
       "      <td>-0.06</td>\n",
       "      <td>-0.04</td>\n",
       "      <td>-0.06</td>\n",
       "      <td>1.00</td>\n",
       "      <td>0.05</td>\n",
       "      <td>0.02</td>\n",
       "      <td>0.01</td>\n",
       "      <td>-0.05</td>\n",
       "      <td>0.02</td>\n",
       "      <td>0.25</td>\n",
       "    </tr>\n",
       "    <tr>\n",
       "      <th>X_6</th>\n",
       "      <td>-0.01</td>\n",
       "      <td>-0.02</td>\n",
       "      <td>0.02</td>\n",
       "      <td>-0.02</td>\n",
       "      <td>0.05</td>\n",
       "      <td>1.00</td>\n",
       "      <td>-0.04</td>\n",
       "      <td>-0.02</td>\n",
       "      <td>-0.05</td>\n",
       "      <td>-0.01</td>\n",
       "      <td>-0.01</td>\n",
       "    </tr>\n",
       "    <tr>\n",
       "      <th>X_7</th>\n",
       "      <td>-0.03</td>\n",
       "      <td>-0.02</td>\n",
       "      <td>0.02</td>\n",
       "      <td>0.00</td>\n",
       "      <td>0.02</td>\n",
       "      <td>-0.04</td>\n",
       "      <td>1.00</td>\n",
       "      <td>0.01</td>\n",
       "      <td>0.10</td>\n",
       "      <td>0.01</td>\n",
       "      <td>-0.03</td>\n",
       "    </tr>\n",
       "    <tr>\n",
       "      <th>X_8</th>\n",
       "      <td>0.01</td>\n",
       "      <td>0.01</td>\n",
       "      <td>0.06</td>\n",
       "      <td>-0.01</td>\n",
       "      <td>0.01</td>\n",
       "      <td>-0.02</td>\n",
       "      <td>0.01</td>\n",
       "      <td>1.00</td>\n",
       "      <td>0.00</td>\n",
       "      <td>0.05</td>\n",
       "      <td>0.00</td>\n",
       "    </tr>\n",
       "    <tr>\n",
       "      <th>X_9</th>\n",
       "      <td>-0.01</td>\n",
       "      <td>0.03</td>\n",
       "      <td>0.01</td>\n",
       "      <td>0.00</td>\n",
       "      <td>-0.05</td>\n",
       "      <td>-0.05</td>\n",
       "      <td>0.10</td>\n",
       "      <td>0.00</td>\n",
       "      <td>1.00</td>\n",
       "      <td>-0.02</td>\n",
       "      <td>-0.02</td>\n",
       "    </tr>\n",
       "    <tr>\n",
       "      <th>X_10</th>\n",
       "      <td>-0.01</td>\n",
       "      <td>-0.05</td>\n",
       "      <td>0.01</td>\n",
       "      <td>-0.04</td>\n",
       "      <td>0.02</td>\n",
       "      <td>-0.01</td>\n",
       "      <td>0.01</td>\n",
       "      <td>0.05</td>\n",
       "      <td>-0.02</td>\n",
       "      <td>1.00</td>\n",
       "      <td>-0.06</td>\n",
       "    </tr>\n",
       "    <tr>\n",
       "      <th>Y</th>\n",
       "      <td>0.43</td>\n",
       "      <td>0.37</td>\n",
       "      <td>-0.01</td>\n",
       "      <td>0.56</td>\n",
       "      <td>0.25</td>\n",
       "      <td>-0.01</td>\n",
       "      <td>-0.03</td>\n",
       "      <td>0.00</td>\n",
       "      <td>-0.02</td>\n",
       "      <td>-0.06</td>\n",
       "      <td>1.00</td>\n",
       "    </tr>\n",
       "  </tbody>\n",
       "</table>\n",
       "</div>"
      ],
      "text/plain": [
       "       X_1   X_2   X_3   X_4   X_5   X_6   X_7   X_8   X_9  X_10     Y\n",
       "X_1   1.00 -0.03  0.00 -0.02  0.01 -0.01 -0.03  0.01 -0.01 -0.01  0.43\n",
       "X_2  -0.03  1.00  0.00  0.02 -0.06 -0.02 -0.02  0.01  0.03 -0.05  0.37\n",
       "X_3   0.00  0.00  1.00  0.03 -0.04  0.02  0.02  0.06  0.01  0.01 -0.01\n",
       "X_4  -0.02  0.02  0.03  1.00 -0.06 -0.02  0.00 -0.01  0.00 -0.04  0.56\n",
       "X_5   0.01 -0.06 -0.04 -0.06  1.00  0.05  0.02  0.01 -0.05  0.02  0.25\n",
       "X_6  -0.01 -0.02  0.02 -0.02  0.05  1.00 -0.04 -0.02 -0.05 -0.01 -0.01\n",
       "X_7  -0.03 -0.02  0.02  0.00  0.02 -0.04  1.00  0.01  0.10  0.01 -0.03\n",
       "X_8   0.01  0.01  0.06 -0.01  0.01 -0.02  0.01  1.00  0.00  0.05  0.00\n",
       "X_9  -0.01  0.03  0.01  0.00 -0.05 -0.05  0.10  0.00  1.00 -0.02 -0.02\n",
       "X_10 -0.01 -0.05  0.01 -0.04  0.02 -0.01  0.01  0.05 -0.02  1.00 -0.06\n",
       "Y     0.43  0.37 -0.01  0.56  0.25 -0.01 -0.03  0.00 -0.02 -0.06  1.00"
      ]
     },
     "execution_count": 11,
     "metadata": {},
     "output_type": "execute_result"
    }
   ],
   "source": [
    "# корреляционная матрица\n",
    "\n",
    "data.corr().round(2)"
   ]
  },
  {
   "cell_type": "markdown",
   "id": "9f27ea0d",
   "metadata": {},
   "source": [
    "## Вывод\n",
    "\n",
    "- В данных отсутствуют пропуски;\n",
    "- Типы данных приведены;\n",
    "- Отсутствуют дубликаты;\n",
    "- Фичи уже стандартизированы, так как их значения варьируются от 0 до 1;\n",
    "- Большее количество значений целевого признака находятся в промежутке значений от 11 до 21;\n",
    "- На диаграммах размаха фичей выбросов не было замечено;\n",
    "- На диаграмме таргета замечены выбросы, однако их не так много чтобы удалять 2 строки, к тому же их значение не является аномальным;\n",
    "- Корреляционная матрица показывает, что большее влияние на таргет оказывают следующие фичи: X_1, X_2, X_4, X_5;"
   ]
  },
  {
   "cell_type": "markdown",
   "id": "b116d370",
   "metadata": {},
   "source": [
    "# Обучение модели регрессии"
   ]
  },
  {
   "cell_type": "code",
   "execution_count": 12,
   "id": "58ff1ecd",
   "metadata": {},
   "outputs": [
    {
     "name": "stdout",
     "output_type": "stream",
     "text": [
      "(800, 10) (800,)\n",
      "(200, 10) (200,)\n"
     ]
    }
   ],
   "source": [
    "# делим фичи и таргет на тестовую и обучающую выборки\n",
    "\n",
    "features_train, features_test, target_train, target_test = train_test_split(features, target, test_size=0.2, random_state = STATE)\n",
    "\n",
    "print(features_train.shape, target_train.shape)\n",
    "print(features_test.shape, target_test.shape)"
   ]
  },
  {
   "cell_type": "code",
   "execution_count": 13,
   "id": "4cdabc90",
   "metadata": {},
   "outputs": [
    {
     "data": {
      "text/plain": [
       "LinearRegression()"
      ]
     },
     "execution_count": 13,
     "metadata": {},
     "output_type": "execute_result"
    }
   ],
   "source": [
    "# обучаем модель Линейной Регрессии без подбора параметров и тд\n",
    "\n",
    "model = LinearRegression()\n",
    "model.fit(features_train, target_train)"
   ]
  },
  {
   "cell_type": "code",
   "execution_count": 14,
   "id": "18da7b39",
   "metadata": {},
   "outputs": [
    {
     "name": "stdout",
     "output_type": "stream",
     "text": [
      "[13.01304213 14.01744245 13.46715271 15.32447238 20.74683438  8.18638167\n",
      " 15.23602973 18.65633715 10.01251354 14.72575297]\n"
     ]
    }
   ],
   "source": [
    "# выводим предсказания обученной модели\n",
    "\n",
    "target_pred = model.predict(features_test)\n",
    "print(target_pred[:10])"
   ]
  },
  {
   "cell_type": "code",
   "execution_count": 15,
   "id": "0d85887c",
   "metadata": {},
   "outputs": [],
   "source": [
    "# расчитываем MAE и R^2\n",
    "\n",
    "mae = np.round(np.sqrt(metrics.mean_absolute_error(target_test, target_pred)), 3)\n",
    "r2 = np.round(metrics.r2_score(target_test, target_pred), 3)"
   ]
  },
  {
   "cell_type": "code",
   "execution_count": 16,
   "id": "65b07f54",
   "metadata": {},
   "outputs": [
    {
     "name": "stdout",
     "output_type": "stream",
     "text": [
      "Mean Absolute Error (MAE): 1.395\n",
      "R2: 0.722\n"
     ]
    }
   ],
   "source": [
    "print('Mean Absolute Error (MAE):', mae)\n",
    "print('R2:', r2)"
   ]
  },
  {
   "cell_type": "code",
   "execution_count": 17,
   "id": "2f7c4012",
   "metadata": {},
   "outputs": [
    {
     "data": {
      "image/png": "[encoded data removed]",
      "text/plain": [
       "<Figure size 900x700 with 1 Axes>"
      ]
     },
     "metadata": {},
     "output_type": "display_data"
    }
   ],
   "source": [
    "# выводим график важности факторов\n",
    "\n",
    "importance = pd.DataFrame(model.coef_, columns=[\"Важность\"], index=features_train.columns)\n",
    "\n",
    "importance = importance.sort_values(by='Важность', ascending=False)\n",
    "\n",
    "importance.plot(kind=\"bar\", figsize=(9, 7), title='Важность признаков | LinearRegression');"
   ]
  },
  {
   "cell_type": "markdown",
   "id": "6c95cc5c",
   "metadata": {},
   "source": [
    "## Вывод\n",
    "\n",
    "- Обучена модель Линейной Регрессии без подбора параметров\n",
    "- Рассчитаны MAE и R^2 \n",
    "- По результатам был построен график важности признаков. Из него можно сделать вывод, что наиболее важными и влияющими на таргет являются фичи: X_4, X_1, X_2, X_5. Остальные оказывают малое влияние.\n",
    "\n",
    "Почему были выбраны именно эти метрики. Средняя абсолютная ошибка (МАЕ) проста в интерпретации. Так как нет условия конкретной задачи, в теории, можно выбрать любой критерий. Если же это была бы задача для оценки, например, стоимости чего-либо или цены, то в таком случае MAE не подошло бы, и я бы рассматривал другую метрику. Так как МАЕ не сильно штрафует ошибки, в то время, как MSE наоборот.\n"
   ]
  },
  {
   "cell_type": "markdown",
   "id": "fd5b1d5c",
   "metadata": {},
   "source": [
    "# Как улучшить модель?"
   ]
  },
  {
   "cell_type": "markdown",
   "id": "7b16495b",
   "metadata": {},
   "source": [
    "Улучшить модель можно с помощью:\n",
    "1. Сокращения признаков которые не оказывают сильного влияния на таргет\n",
    "2. Подбора гиперпараметров\n",
    "3. Добавления новых признаков\n",
    "\n",
    "*ПС ниже я попробую удалить маловлияющие признаки и посмотрим улучшится ли модель*"
   ]
  },
  {
   "cell_type": "code",
   "execution_count": 18,
   "id": "dadb0b17",
   "metadata": {},
   "outputs": [],
   "source": [
    "# выделяем только наиболее важные фичи\n",
    "\n",
    "features_best = data.drop(columns = ['Y', 'X_6', 'X_8', 'X_3', 'X_7', 'X_9', 'X_10'])"
   ]
  },
  {
   "cell_type": "code",
   "execution_count": 19,
   "id": "cf68b42e",
   "metadata": {},
   "outputs": [
    {
     "name": "stdout",
     "output_type": "stream",
     "text": [
      "(800, 4) (800,)\n",
      "(200, 4) (200,)\n"
     ]
    }
   ],
   "source": [
    "# опять делим на тестовую и обучающие выборки\n",
    "\n",
    "features_train_best, features_test_best, target_train, target_test = train_test_split(features_best, target, test_size=0.2, random_state = STATE)\n",
    "\n",
    "print(features_train_best.shape, target_train.shape)\n",
    "print(features_test_best.shape, target_test.shape)"
   ]
  },
  {
   "cell_type": "code",
   "execution_count": 20,
   "id": "5f6d70f6",
   "metadata": {},
   "outputs": [
    {
     "data": {
      "text/plain": [
       "LinearRegression()"
      ]
     },
     "execution_count": 20,
     "metadata": {},
     "output_type": "execute_result"
    }
   ],
   "source": [
    "# обучаем модель на новых данных\n",
    "\n",
    "model = LinearRegression()\n",
    "model.fit(features_train_best, target_train)"
   ]
  },
  {
   "cell_type": "code",
   "execution_count": 21,
   "id": "1660eac7",
   "metadata": {},
   "outputs": [
    {
     "name": "stdout",
     "output_type": "stream",
     "text": [
      "[12.95549973 13.85182298 13.38540048 15.28016167 20.64615396  8.2175094\n",
      " 15.19589863 18.67539655 10.13711235 14.54286567]\n"
     ]
    }
   ],
   "source": [
    "# записываем предсказания модели\n",
    "\n",
    "target_pred_best = model.predict(features_test_best)\n",
    "print(target_pred_best[:10])"
   ]
  },
  {
   "cell_type": "code",
   "execution_count": 22,
   "id": "47bea54e",
   "metadata": {},
   "outputs": [],
   "source": [
    "# расчитываем те же метрики для того, чтобы сравнить изменение если оно будет\n",
    "\n",
    "mae_best = np.round(np.sqrt(metrics.mean_absolute_error(target_test, target_pred_best)), 3)\n",
    "r2_best = np.round(metrics.r2_score(target_test, target_pred_best), 3)"
   ]
  },
  {
   "cell_type": "code",
   "execution_count": 23,
   "id": "5c148014",
   "metadata": {},
   "outputs": [
    {
     "data": {
      "text/html": [
       "<div>\n",
       "<style scoped>\n",
       "    .dataframe tbody tr th:only-of-type {\n",
       "        vertical-align: middle;\n",
       "    }\n",
       "\n",
       "    .dataframe tbody tr th {\n",
       "        vertical-align: top;\n",
       "    }\n",
       "\n",
       "    .dataframe thead th {\n",
       "        text-align: right;\n",
       "    }\n",
       "</style>\n",
       "<table border=\"1\" class=\"dataframe\">\n",
       "  <thead>\n",
       "    <tr style=\"text-align: right;\">\n",
       "      <th></th>\n",
       "      <th>MAE</th>\n",
       "      <th>R2</th>\n",
       "      <th>Изменение</th>\n",
       "    </tr>\n",
       "  </thead>\n",
       "  <tbody>\n",
       "    <tr>\n",
       "      <th>0</th>\n",
       "      <td>1.395</td>\n",
       "      <td>0.722</td>\n",
       "      <td>0.002</td>\n",
       "    </tr>\n",
       "    <tr>\n",
       "      <th>1</th>\n",
       "      <td>1.393</td>\n",
       "      <td>0.722</td>\n",
       "      <td>0.000</td>\n",
       "    </tr>\n",
       "  </tbody>\n",
       "</table>\n",
       "</div>"
      ],
      "text/plain": [
       "     MAE     R2  Изменение\n",
       "0  1.395  0.722      0.002\n",
       "1  1.393  0.722      0.000"
      ]
     },
     "execution_count": 23,
     "metadata": {},
     "output_type": "execute_result"
    }
   ],
   "source": [
    "# создаем словарь со значениям метрик\n",
    "\n",
    "d = {'MAE': [mae, mae_best],\n",
    "     'R2': [r2, r2_best],\n",
    "     'Изменение': [mae-mae_best, r2-r2_best]\n",
    "    }\n",
    "results = pd.DataFrame(data=d)\n",
    "results"
   ]
  },
  {
   "cell_type": "markdown",
   "id": "69bd300e",
   "metadata": {},
   "source": [
    "## Вывод\n",
    "\n",
    "Удаление маловлияющих признаков улучшило показатель MAE на 0.002, что является малозначимым."
   ]
  },
  {
   "cell_type": "markdown",
   "id": "6a2c3164",
   "metadata": {},
   "source": [
    "Я буду благодарен, если смогу получить фидбэк по проделанной работе :)"
   ]
  }
 ],
 "metadata": {
  "kernelspec": {
   "display_name": "Python 3 (ipykernel)",
   "language": "python",
   "name": "python3"
  },
  "language_info": {
   "codemirror_mode": {
    "name": "ipython",
    "version": 3
   },
   "file_extension": ".py",
   "mimetype": "text/x-python",
   "name": "python",
   "nbconvert_exporter": "python",
   "pygments_lexer": "ipython3",
   "version": "3.9.13"
  }
 },
 "nbformat": 4,
 "nbformat_minor": 5
}
